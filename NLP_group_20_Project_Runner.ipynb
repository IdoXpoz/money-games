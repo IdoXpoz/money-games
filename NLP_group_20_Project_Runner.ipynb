{
  "cells": [
    {
      "cell_type": "raw",
      "metadata": {
        "vscode": {
          "languageId": "raw"
        }
      },
      "source": [
        "# NLP Group 20 Project Runner\n",
        "\n",
        "This notebook pulls the organized code from Git and runs the monetary priming experiment on LLMs.\n",
        "\n",
        "**\"Money on the Mind: Do LLMs Get Greedy?\"**\n"
      ]
    },
    {
      "cell_type": "code",
      "execution_count": null,
      "metadata": {},
      "outputs": [],
      "source": [
        "# Clone repository \n",
        "!git clone https://github.com/IdoXpoz/money-games.git\n",
        "\n",
        "%cd money-games"
      ]
    },
    {
      "cell_type": "code",
      "execution_count": null,
      "metadata": {},
      "outputs": [],
      "source": [
        "#Switch to another branch if needed\n",
        "!git fetch\n",
        "!git checkout ido-work"
      ]
    },
    {
      "cell_type": "code",
      "execution_count": null,
      "metadata": {},
      "outputs": [],
      "source": [
        "# Install dependencies\n",
        "%pip install -r requirements.txt --quiet"
      ]
    },
    {
      "cell_type": "code",
      "execution_count": null,
      "metadata": {},
      "outputs": [],
      "source": [
        "# secrets (put the real ones here when running the code)\n",
        "# If we put them in the code itself, github refuses to push.\n",
        "HUGGINGFACE_TOKEN = \"aaa\"\n",
        "GEMINI_API_KEY = \"aaa\""
      ]
    },
    {
      "cell_type": "code",
      "execution_count": null,
      "metadata": {},
      "outputs": [],
      "source": [
        "# Import the experiment runner\n",
        "from src.experiment.runner import ExperimentRunner\n",
        "\n",
        "# Initialize and setup\n",
        "runner = ExperimentRunner(huggingface_token=HUGGINGFACE_TOKEN, gemini_api_key=GEMINI_API_KEY)\n",
        "runner.setup()\n"
      ]
    },
    {
      "cell_type": "code",
      "execution_count": null,
      "metadata": {},
      "outputs": [],
      "source": [
        "# Run the full experiment\n",
        "print(\"Starting LLM Monetary Priming Experiment...\")\n",
        "print(\"=\" * 50)\n",
        "\n",
        "# Run experiment (set include_gemini=True to also test Gemini)\n",
        "results_df = runner.run_open_source_experiment(include_gemini=False)\n",
        "\n",
        "print(\"\\nExperiment completed!\")\n",
        "print(\"=\" * 50)\n"
      ]
    },
    {
      "cell_type": "code",
      "execution_count": null,
      "metadata": {},
      "outputs": [],
      "source": [
        "# Display results\n",
        "print(\"Experiment Results Summary:\")\n",
        "print(\"=\" * 50)\n",
        "\n",
        "# Show a clean summary of results\n",
        "summary_df = results_df[['model', 'prefix_type', 'response']].copy()\n",
        "display(summary_df)\n",
        "\n",
        "print(f\"\\nTotal experiments run: {len(results_df)}\")\n",
        "print(f\"Models tested: {results_df['model'].nunique()}\")\n",
        "print(f\"Prefix conditions: {results_df['prefix_type'].nunique()}\")\n"
      ]
    },
    {
      "cell_type": "code",
      "execution_count": null,
      "metadata": {},
      "outputs": [],
      "source": [
        "# Analyze decision token probabilities (for open source models only)\n",
        "print(\"Decision Token Probability Analysis:\")\n",
        "print(\"=\" * 50)\n",
        "\n",
        "for idx, row in results_df.iterrows():\n",
        "    if row['decision_tokens'] is not None:\n",
        "        print(f\"\\nModel: {row['model']}\")\n",
        "        print(f\"Prefix: {row['prefix_type']}\")\n",
        "        print(f\"Response: {row['response']}\")\n",
        "        print(\"Decision token probabilities:\")\n",
        "        for token, prob in row['decision_tokens']:\n",
        "            print(f\"  {token}: {prob:.4f}\")\n",
        "        print(\"-\" * 30)\n"
      ]
    },
    {
      "cell_type": "code",
      "execution_count": null,
      "metadata": {},
      "outputs": [],
      "source": [
        "# Save results\n",
        "runner.save_results(\"experiment_results.csv\")\n",
        "\n",
        "# Download results file (for Colab)\n",
        "try:\n",
        "    from google.colab import files\n",
        "    files.download(\"experiment_results.csv\")\n",
        "    print(\"Results downloaded!\")\n",
        "except ImportError:\n",
        "    print(\"Results saved to experiment_results.csv\")\n"
      ]
    }
  ],
  "metadata": {
    "language_info": {
      "name": "python"
    }
  },
  "nbformat": 4,
  "nbformat_minor": 2
}
